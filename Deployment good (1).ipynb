{
 "cells": [
  {
   "cell_type": "code",
   "execution_count": 1,
   "id": "7978d751",
   "metadata": {},
   "outputs": [
    {
     "name": "stderr",
     "output_type": "stream",
     "text": [
      "2023-10-06 02:34:09.993 \n",
      "  \u001b[33m\u001b[1mWarning:\u001b[0m to view this Streamlit app on a browser, run it with the following\n",
      "  command:\n",
      "\n",
      "    streamlit run C:\\Users\\Narasimhulu E\\anaconda3\\lib\\site-packages\\ipykernel_launcher.py [ARGUMENTS]\n"
     ]
    }
   ],
   "source": [
    "import streamlit as st\n",
    "import pandas as pd\n",
    "import pickle\n",
    "\n",
    "# Load the saved Gradient Boosting model\n",
    "with open(\"gradient_boosting_model.pkl\", 'rb') as model_file:\n",
    "    gb_model = pickle.load(model_file)\n",
    "\n",
    "with open(\"world_development_data.pkl\", 'rb') as data_file:\n",
    "    data = pickle.load(data_file)\n",
    "\n",
    "# Streamlit UI elements\n",
    "st.title(\"Prediction App\")\n",
    "st.write(\"Enter the features below to make predictions:\")\n",
    "\n",
    "# Input features\n",
    "features = {}\n",
    "\n",
    "# Define the feature names\n",
    "feature_names = ['BirthRate', 'BusinessTaxRate', 'CO2Emissions', 'DaystoStartBusiness',\n",
    "                 'EaseofBusiness', 'EnergyUsage', 'GDP', 'HealthExpGDP',\n",
    "                 'HealthExpCapita', 'HourstodoTax', 'InfantMortalityRate',\n",
    "                 'InternetUsage', 'LendingInterest', 'LifeExpectancyFemale',\n",
    "                 'LifeExpectancyMale', 'MobilePhoneUsage', 'Population0to14',\n",
    "                 'Population15to64', 'Populationmorethan65', 'PopulationTotal',\n",
    "                 'PopulationUrban', 'TourismInbound', 'TourismOutbound',\n",
    "                 'Countryencoded']\n",
    "\n",
    "# Iterate through each feature and get user input\n",
    "for feature in feature_names:\n",
    "    features[feature] = st.number_input(f\"{feature}:\")\n",
    "\n",
    "if st.button(\"Predict\"):\n",
    "    input_data = pd.DataFrame([features])\n",
    "    prediction = gb_model.predict(input_data)\n",
    "    st.write(f\"Predicted Class: {prediction[0]}\")"
   ]
  },
  {
   "cell_type": "code",
   "execution_count": null,
   "id": "b0658e3a",
   "metadata": {},
   "outputs": [],
   "source": []
  },
  {
   "cell_type": "code",
   "execution_count": null,
   "id": "a1b54a65",
   "metadata": {},
   "outputs": [],
   "source": []
  },
  {
   "cell_type": "code",
   "execution_count": null,
   "id": "f427214d",
   "metadata": {},
   "outputs": [],
   "source": []
  },
  {
   "cell_type": "code",
   "execution_count": null,
   "id": "cc638500",
   "metadata": {},
   "outputs": [],
   "source": []
  },
  {
   "cell_type": "code",
   "execution_count": null,
   "id": "0c80bdd7",
   "metadata": {},
   "outputs": [],
   "source": []
  },
  {
   "cell_type": "code",
   "execution_count": null,
   "id": "3863e708",
   "metadata": {},
   "outputs": [],
   "source": []
  },
  {
   "cell_type": "code",
   "execution_count": null,
   "id": "7a750bd7",
   "metadata": {},
   "outputs": [],
   "source": []
  }
 ],
 "metadata": {
  "kernelspec": {
   "display_name": "Python 3 (ipykernel)",
   "language": "python",
   "name": "python3"
  },
  "language_info": {
   "codemirror_mode": {
    "name": "ipython",
    "version": 3
   },
   "file_extension": ".py",
   "mimetype": "text/x-python",
   "name": "python",
   "nbconvert_exporter": "python",
   "pygments_lexer": "ipython3",
   "version": "3.11.5"
  }
 },
 "nbformat": 4,
 "nbformat_minor": 5
}
